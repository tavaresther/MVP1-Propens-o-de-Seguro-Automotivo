{
  "cells": [
    {
      "cell_type": "markdown",
      "metadata": {
        "id": "view-in-github",
        "colab_type": "text"
      },
      "source": [
        "<a href=\"https://colab.research.google.com/github/tavaresther/MVP1-propensao-seguro-automotivo/blob/main/MVP_1_Classifica%C3%A7%C3%A3o_de_Seguro_Automotivo.ipynb\" target=\"_parent\"><img src=\"https://colab.research.google.com/assets/colab-badge.svg\" alt=\"Open In Colab\"/></a>"
      ]
    },
    {
      "cell_type": "code",
      "source": [
        "#Importar tudo que é necessário para o projeto e fazer as configurações necessárias\n",
        "import pandas as pd\n",
        "from prettytable import PrettyTable\n",
        "from IPython.display import display\n",
        "import numpy as np\n",
        "from sklearn.model_selection import train_test_split\n",
        "from imblearn.over_sampling import SMOTE\n",
        "from sklearn.preprocessing import StandardScaler\n",
        "from sklearn.feature_selection import SelectKBest, chi2, f_classif, mutual_info_classif\n",
        "from sklearn.ensemble import RandomForestClassifier, GradientBoostingClassifier\n",
        "from sklearn.linear_model import LogisticRegression\n",
        "from sklearn.neighbors import KNeighborsClassifier\n",
        "from sklearn.svm import SVC\n",
        "from sklearn.metrics import accuracy_score, precision_score, recall_score, f1_score, confusion_matrix, ConfusionMatrixDisplay\n",
        "import matplotlib.pyplot as plt\n",
        "\n",
        "pd.set_option('display.max_rows', 20)  # Limitar para as 20 primeiras linhas\n",
        "pd.set_option('display.max_columns', 20)  # Limitar para até 10 colunas\n",
        "pd.set_option('display.width', 1000)  # Definir largura de exibição"
      ],
      "metadata": {
        "id": "HwRokmSlBnUM"
      },
      "execution_count": 39,
      "outputs": []
    },
    {
      "cell_type": "markdown",
      "metadata": {
        "id": "IEIJ0wwIgg9i"
      },
      "source": [
        "# Definição do Problema"
      ]
    },
    {
      "cell_type": "markdown",
      "metadata": {
        "id": "2tNlf3dPh8MK"
      },
      "source": [
        "## Problema Proposto\n",
        "\n",
        "\n"
      ]
    },
    {
      "cell_type": "markdown",
      "metadata": {
        "id": "0x5ML7CjgqBp"
      },
      "source": [
        "\n",
        "O problema que desejo resolver é criar uma classificação que apresente se um cliente pessoa física, de uma instituição financeira, tem perfil para contratar um seguro automotivo. Para isso, pretendo analisar o perfil e o comportamento de consumo dos clientes que já possuem esse produto, com o objetivo de identificar padrões relevantes. Esses padrões serão utilizados para treinar um algoritmo de **aprendizado de máquina supervisionado, voltado para classificação**. O objetivo é capacitar o modelo a estimar a probabilidade de sucesso na oferta do seguro automotivo para clientes que ainda não o utilizam.\n",
        "\n",
        "O seguro automotivo é uma proteção indispensável para quem possui um veículo. Ele cobre custos em casos de acidentes, roubos, furtos e até danos a terceiros, oferecendo segurança financeira e tranquilidade para o motorista. Além disso, muitas apólices incluem benefícios como assistência 24 horas e carro reserva, tornando-o ainda mais valioso no dia a dia.\n",
        "\n",
        "A criação de um modelo de propensão permite à empresa identificar os clientes mais propensos a contratar o seguro. Essa abordagem direcionada além de ter potencial de otimizar os custos e aumentar as taxas de conversão, poderá também melhorar a experiência dos associados e facilitar o trabalho dos colaboradores na abordagem comercial, podendo garantir que a oferta seja feita de forma assertiva e alinhada às necessidades de cada cliente."
      ]
    },
    {
      "cell_type": "markdown",
      "metadata": {
        "id": "KP3D04ggh1c_"
      },
      "source": [
        "## Premissas ou Hipóteses"
      ]
    },
    {
      "cell_type": "markdown",
      "metadata": {
        "id": "_TsWtuJLjEj4"
      },
      "source": [
        "\n",
        "1.   Existe uma faixa etária mais inclinada a contratar esse produto?\n",
        "2.   Existe um faixa de renda mais inclinada a contratar esse produto?\n",
        "3.  Clientes que possuem esse produto na instituição financeira, gastam com carro em seus cartões (gasolina, mecânica, lavacar, estacionamento, pedágio)?\n",
        "4.  Clientes que possuem esse produto na instituição financeira possiem uma movimentação maior que os que não possuem?\n",
        "\n",
        "\n",
        "\n",
        "\n"
      ]
    },
    {
      "cell_type": "markdown",
      "metadata": {
        "id": "KnjUlx5mwa6N"
      },
      "source": [
        "## Restrições ou Condições"
      ]
    },
    {
      "cell_type": "markdown",
      "metadata": {
        "id": "Z9Em7yEuwiCI"
      },
      "source": [
        "Essa base como informado anteriormente foi disponibilizada por uma instituição financeira cooperativista, na qual sou Análista de Dados.\n",
        "Os dados disponibilizados foram apenas aqueles que foram identificados como relevantes para esse projeto e com a informação relacionada ao cliente codificada."
      ]
    },
    {
      "cell_type": "markdown",
      "metadata": {
        "id": "GdOxGGEvk6UW"
      },
      "source": [
        "## Dados que serão utilizados"
      ]
    },
    {
      "cell_type": "markdown",
      "metadata": {
        "id": "_WaHcS79k-R5"
      },
      "source": [
        "A base disponibilizada foi pré_processada deixando apenas o que foi considerado importante e para reduzir a quantidade de dados para que fosse possível o envio por email.\n",
        "\n",
        "Entre as etapas desse pre-processamente foi utilizada a união de três bases distintas, o qual optei for fazer antes por não se ser parte do foco desse projeto.\n",
        "\n",
        "Segue abaixo um explicação do que temos disponivel na base:\n",
        "\n",
        "* cpf_codificado: Foi realizada um codficação do cpf do cliente para que não seja possivel identificar de quem se tratam esses dados;\n",
        "* isa: O ISA é o nome dado para o indicador de soluções por associado(o nome dado para os clientes de uma instituição cooperativista), esse indicador conta quantos produtos diferentes o cliente possui, onde quanto mais possuir, melhor;\n",
        "* mc_total: O MC é o nome dado para a Margem de Contribuição, ou seja a receita ou despesa que aquele cliente tras para a empresa;\n",
        "* score_principalidade: A Principalidade é um indicador cálculado pela instituição que valida o quanto da vida financeira do cliente ocorre nessa instituição;\n",
        "* prod_seguro_automovel: É um dos produtos que compõem o ISA, mas esse é ligado diretamente ao seguro automotivo, importante destacar que não importa o valor do seguro, apenas se o cliente o possui;\n",
        "* renda_mensal: Renda do cliente cadastrada na instiuição;\n",
        "* idade: Quantos ano esse cliente possui;\n",
        "* tipo_gasto: Essa informação vem de uma base de utilização de cartão, tanto crédito quanto débito, foram filtradas apenas as relacionadas a gastos com carro: Gasolina, Manutenção, Estacionamento e Lavacar;\n",
        "* gasto_3_meses: Essa informação também vem de uma base de utilização de cartão e é complementar a coluna tipo_gasto, pois nessa é informada quantas vezes o cliente teve aquele gasto nos últimos 3 meses;\n",
        "* credito_automovel: Apenas sinaliza se o cliente possui ou não um crédito automotivo nessa instituição.\n",
        "* possui_bem: Informa se no cadastro do cliente possui a informação se ele possui veículo;\n",
        "\n",
        "\n",
        "\n",
        "\n"
      ]
    },
    {
      "cell_type": "markdown",
      "metadata": {
        "id": "uiSh18jenQa1"
      },
      "source": [
        "# Preparação dos Dados"
      ]
    },
    {
      "cell_type": "markdown",
      "source": [
        "## Carga"
      ],
      "metadata": {
        "id": "B7F0L3ubGjjh"
      }
    },
    {
      "cell_type": "code",
      "execution_count": 2,
      "metadata": {
        "id": "YtglnfkagPlJ"
      },
      "outputs": [],
      "source": [
        "\n",
        "#Carregar base do repositorio do Git e transformar em dataframe\n",
        "url = \"https://raw.githubusercontent.com/tavaresther/MVP1-propensao-seguro-automotivo/refs/heads/main/base_clientes.csv\"\n",
        "\n",
        "df_base_clientes = pd.read_csv(url)"
      ]
    },
    {
      "cell_type": "markdown",
      "metadata": {
        "id": "XAt98dxIw4xq"
      },
      "source": [
        "Primeiramente vamos transformar esse df em tabela para conseguir trabalha-la e fazer um print das primeiras linhas para entender como essa base é:"
      ]
    },
    {
      "cell_type": "code",
      "source": [
        "# Vizualizar base\n",
        "print(df_base_clientes.head(20))"
      ],
      "metadata": {
        "colab": {
          "base_uri": "https://localhost:8080/"
        },
        "id": "wsCzyOqI-FmJ",
        "outputId": "e24f5be0-0173-4b0d-a606-a3212e2cfc31"
      },
      "execution_count": 3,
      "outputs": [
        {
          "output_type": "stream",
          "name": "stdout",
          "text": [
            "                                       cpf_codificado  isa  mc_total  score_principalidade  prod_seguro_automovel  renda_mensal  idade                             tipo_gasto  gasto_3_meses credito_automovel possui_bem\n",
            "0   511f3868982a8855cf79c58b8334ad461a32b68f5dded7...  4.0    417.62              0.370657                    0.0       4250.00   28.0                      POSTO DE GASOLINA            1.0               NaN        NaN\n",
            "1   25cef0b0e3cde26e48f300ceff3fc629c41babcc673842...  3.0  -1602.17              0.273710                    0.0       6000.00   63.0                                    NaN            NaN               NaN        NaN\n",
            "2   18d4733b6c9a09c27103ea6a547a67eb6f279404b61bd9...  4.0    151.25              0.158253                    0.0       8974.85   43.0                                    NaN            NaN               NaN        NaN\n",
            "3   d5255b75303e65d21b40112ade9e0b2e648cd7b09bf89e...  4.0    171.61              0.186755                    0.0       6000.00   24.0                                    NaN            NaN               NaN        NaN\n",
            "4   9c587aeb7fb4bfa84fcefa106774ed5303999f7e39b665...  4.0     57.35              0.812500                    0.0       3018.00   63.0  AUTOMOTIVE SERVICE SHOPS (NON-DEALER)            1.0               NaN        NaN\n",
            "5   9c587aeb7fb4bfa84fcefa106774ed5303999f7e39b665...  4.0     57.35              0.812500                    0.0       3018.00   63.0                      POSTO DE GASOLINA           11.0               NaN        NaN\n",
            "6   9c587aeb7fb4bfa84fcefa106774ed5303999f7e39b665...  4.0     57.35              0.812500                    0.0       3018.00   63.0                             CAR WASHES            1.0               NaN        NaN\n",
            "7   a3ab7716f5d58438521fc7b910269bf45186f7941d0ded...  6.0     12.10              0.590000                    0.0       3900.00   29.0                      POSTO DE GASOLINA           15.0               NaN        NaN\n",
            "8   a3ab7716f5d58438521fc7b910269bf45186f7941d0ded...  6.0     12.10              0.590000                    0.0       3900.00   29.0               PARKING LOTS AND GARAGES            3.0               NaN        NaN\n",
            "9   7837922a29de589eb6ea661d134740d6d1090bd72f65f6...  3.0     -0.94              0.487917                    0.0       2012.00   27.0                                    NaN            NaN               NaN        NaN\n",
            "10  17e72c50c9f38e564a3f76fcdd91672400c3358a6212d6...  4.0      1.73              0.692500                    0.0       2631.20   26.0                      POSTO DE GASOLINA            4.0               NaN        NaN\n",
            "11  17e72c50c9f38e564a3f76fcdd91672400c3358a6212d6...  4.0      1.73              0.692500                    0.0       2631.20   26.0           MOTORCYCLE SHOPS AND DEALERS            1.0               NaN        NaN\n",
            "12  bb55f2c6a6bcdf0429151b8da7093aaca5cc68e0341b04...  9.0    495.76              0.975000                    0.0       3317.36   56.0                      POSTO DE GASOLINA            4.0               NaN        NaN\n",
            "13  ec93cb1a59d063a17b892657052785711356be3e09ddd2...  2.0    188.96              0.522222                    0.0       1212.00   37.0                                    NaN            NaN               NaN        NaN\n",
            "14  90048140be5b87f558aa7ff60e87fa1cb0e6211707396c...  0.0     -0.34              0.118833                    0.0       3000.00   22.0                                    NaN            NaN               NaN        NaN\n",
            "15  c00ed92b78da331bfceb76b494dbda428c62f83249f1b5...  0.0      1.46              0.000000                    0.0       2100.00   32.0                                    NaN            NaN               NaN        NaN\n",
            "16  755c81ab391dc9865abc2b44868ba9dfd61375d365150f...  1.0     -0.34              0.000000                    0.0       2600.00   29.0                                    NaN            NaN               NaN        NaN\n",
            "17  5771c352e887ef47f91d313147e54bf62abe0f2f86e62a...  0.0      1.05              0.000000                    0.0       3482.90   62.0                                    NaN            NaN               NaN        NaN\n",
            "18  b17855fa3c3ad17b651cec2c8f83a626cba21ed20d7947...  0.0      0.04              0.000000                    0.0       6650.00   40.0                                    NaN            NaN               NaN        NaN\n",
            "19  1445e135b96f21bc9d3bfe1c49cec13938f937cee005b0...  0.0      0.37              0.000000                    0.0        970.00   29.0                                    NaN            NaN               NaN        NaN\n"
          ]
        }
      ]
    },
    {
      "cell_type": "markdown",
      "source": [
        "## Transformação do tipo_gasto"
      ],
      "metadata": {
        "id": "uAbsb49TGo8J"
      }
    },
    {
      "cell_type": "markdown",
      "metadata": {
        "id": "aCYf1yAH18gt"
      },
      "source": [
        "A base está com clientes duplicados, por esse motivo vou iniciar minha preparação deixando apenas um vez o cliente, para isso preciso começar criando uma avaliando tudo o que tem na coluna 'tipo_gasto':"
      ]
    },
    {
      "cell_type": "code",
      "source": [
        "#Verificar quantos valores unicos tem na coluna tipo_gasto\n",
        "valores_gastos = df_base_clientes['tipo_gasto'].unique()\n",
        "print(\"Valores únicos na coluna 'tipo_gasto':\")\n",
        "print(valores_gastos)"
      ],
      "metadata": {
        "colab": {
          "base_uri": "https://localhost:8080/"
        },
        "id": "NhCEmxPC_lmA",
        "outputId": "f19f6c44-e855-484c-8c9e-2c43841f080d"
      },
      "execution_count": 4,
      "outputs": [
        {
          "output_type": "stream",
          "name": "stdout",
          "text": [
            "Valores únicos na coluna 'tipo_gasto':\n",
            "['POSTO DE GASOLINA' nan 'AUTOMOTIVE SERVICE SHOPS (NON-DEALER)'\n",
            " 'CAR WASHES' 'PARKING LOTS AND GARAGES' 'MOTORCYCLE SHOPS AND DEALERS'\n",
            " 'AUTO PARTS AND ACCESSORIES STORES'\n",
            " 'MOTOR VEHICLE SUPPLIES AND NEW PARTS'\n",
            " 'MISCELLANEOUS AUTOMOTIVE, AIRCRAFT, AND FARM EQUIPMENT DEALERS - NOT ELSEWHERE CLASSIFIED'\n",
            " 'AUTOMOTIVE TIRE STORES'\n",
            " 'CAR AND TRUCK DEALERS (NEW AND USED) - SALES, SERVICE, REPAIRS, PARTS, AND LEASING'\n",
            " 'CAR AND TRUCK DEALERS (USED ONLY) - SALES, SERVICE, REPAIRS, PARTS, AND LEASING'\n",
            " 'BOAT DEALERS' 'CAMPER, RECREATIONAL, AND UTILITY TRAILER DEALERS']\n"
          ]
        }
      ]
    },
    {
      "cell_type": "markdown",
      "source": [
        "Perceba que temos algumas opção que não nos interessam:\n",
        "* 'MOTORCYCLE SHOPS AND DEALERS' -  Pois nosso foco não é moto;\n",
        "* 'MISCELLANEOUS AUTOMOTIVE, AIRCRAFT, AND FARM EQUIPMENT DEALERS - NOT ELSEWHERE CLASSIFIED' - Pois pode conter gastos não relacionados a carros;\n",
        "* \"BOAT DEALERS\" - Pois nosso foco não é barcos;\n",
        "* CAMPER, RECREATIONAL, AND UTILITY TRAILER DEALERS - Não é um gasto muito comum e que traga grande diferença;\n",
        "\n",
        "Agora vamos criar uma coluna para receber 'gasto_3_meses' para cada tipo de gasto da coluna 'tipo_gasto':"
      ],
      "metadata": {
        "id": "Sf-BDdFSAG67"
      }
    },
    {
      "cell_type": "code",
      "source": [
        "#Criar colunas de tipos de gastos\n",
        "df_base_clientes['gasto_posto_gasolina'] = np\\\n",
        "  .where(df_base_clientes['tipo_gasto'].str.contains('POSTO DE GASOLINA'),df_base_clientes['gasto_3_meses'],0)\n",
        "\n",
        "df_base_clientes['gasto_mecanica_pecas'] = np\\\n",
        "  .where(\n",
        "        (df_base_clientes['tipo_gasto'].str.contains('AUTOMOTIVE SERVICE SHOPS (NON-DEALER)')) |\n",
        "        (df_base_clientes['tipo_gasto'].str.contains('AUTO PARTS AND ACCESSORIES STORES')) |\n",
        "        (df_base_clientes['tipo_gasto'].str.contains('MOTOR VEHICLE SUPPLIES AND NEW PARTS')) |\n",
        "        (df_base_clientes['tipo_gasto'].str.contains('AUTOMOTIVE TIRE STORES')),df_base_clientes['gasto_3_meses'],0)\n",
        "\n",
        "df_base_clientes['gasto_lava_car'] = np\\\n",
        "  .where(df_base_clientes['tipo_gasto'].str.contains('CAR WASHES'),df_base_clientes['gasto_3_meses'],0)\n",
        "\n",
        "df_base_clientes['gasto_estacionamento'] = np\\\n",
        "  .where(df_base_clientes['tipo_gasto'].str.contains('PARKING LOTS AND GARAGES'),df_base_clientes['gasto_3_meses'],0)\n",
        "\n",
        "df_base_clientes['gasto_concessionaria'] = np\\\n",
        "  .where(\n",
        "        (df_base_clientes['tipo_gasto'].str.contains('CAR AND TRUCK DEALERS (NEW AND USED) - SALES, SERVICE, REPAIRS, PARTS, AND LEASING')) |\n",
        "        (df_base_clientes['tipo_gasto'].str.contains('CAR AND TRUCK DEALERS (USED ONLY) - SALES, SERVICE, REPAIRS, PARTS, AND LEASING')),df_base_clientes['gasto_3_meses'],0)\n"
      ],
      "metadata": {
        "colab": {
          "base_uri": "https://localhost:8080/"
        },
        "collapsed": true,
        "id": "7pKRI9mf6iSV",
        "outputId": "3ad99335-94b9-4f45-ca04-231bd883d94e"
      },
      "execution_count": 5,
      "outputs": [
        {
          "output_type": "stream",
          "name": "stderr",
          "text": [
            "<ipython-input-5-d1e2696971e8>:7: UserWarning: This pattern is interpreted as a regular expression, and has match groups. To actually get the groups, use str.extract.\n",
            "  (df_base_clientes['tipo_gasto'].str.contains('AUTOMOTIVE SERVICE SHOPS (NON-DEALER)')) |\n",
            "<ipython-input-5-d1e2696971e8>:20: UserWarning: This pattern is interpreted as a regular expression, and has match groups. To actually get the groups, use str.extract.\n",
            "  (df_base_clientes['tipo_gasto'].str.contains('CAR AND TRUCK DEALERS (NEW AND USED) - SALES, SERVICE, REPAIRS, PARTS, AND LEASING')) |\n",
            "<ipython-input-5-d1e2696971e8>:21: UserWarning: This pattern is interpreted as a regular expression, and has match groups. To actually get the groups, use str.extract.\n",
            "  (df_base_clientes['tipo_gasto'].str.contains('CAR AND TRUCK DEALERS (USED ONLY) - SALES, SERVICE, REPAIRS, PARTS, AND LEASING')),df_base_clientes['gasto_3_meses'],0)\n"
          ]
        }
      ]
    },
    {
      "cell_type": "code",
      "source": [
        "# Vizualizar base\n",
        "print(df_base_clientes.head(20))"
      ],
      "metadata": {
        "colab": {
          "base_uri": "https://localhost:8080/"
        },
        "id": "Zc_eGSxbFNg3",
        "outputId": "ca3fb00b-46a0-4e16-ec87-023157325dbd"
      },
      "execution_count": 6,
      "outputs": [
        {
          "output_type": "stream",
          "name": "stdout",
          "text": [
            "                                       cpf_codificado  isa  mc_total  score_principalidade  prod_seguro_automovel  renda_mensal  idade                             tipo_gasto  gasto_3_meses credito_automovel possui_bem  gasto_posto_gasolina  gasto_mecanica_pecas  gasto_lava_car  gasto_estacionamento  gasto_concessionaria\n",
            "0   511f3868982a8855cf79c58b8334ad461a32b68f5dded7...  4.0    417.62              0.370657                    0.0       4250.00   28.0                      POSTO DE GASOLINA            1.0               NaN        NaN                   1.0                   0.0             0.0                   0.0                   0.0\n",
            "1   25cef0b0e3cde26e48f300ceff3fc629c41babcc673842...  3.0  -1602.17              0.273710                    0.0       6000.00   63.0                                    NaN            NaN               NaN        NaN                   NaN                   0.0             NaN                   NaN                   0.0\n",
            "2   18d4733b6c9a09c27103ea6a547a67eb6f279404b61bd9...  4.0    151.25              0.158253                    0.0       8974.85   43.0                                    NaN            NaN               NaN        NaN                   NaN                   0.0             NaN                   NaN                   0.0\n",
            "3   d5255b75303e65d21b40112ade9e0b2e648cd7b09bf89e...  4.0    171.61              0.186755                    0.0       6000.00   24.0                                    NaN            NaN               NaN        NaN                   NaN                   0.0             NaN                   NaN                   0.0\n",
            "4   9c587aeb7fb4bfa84fcefa106774ed5303999f7e39b665...  4.0     57.35              0.812500                    0.0       3018.00   63.0  AUTOMOTIVE SERVICE SHOPS (NON-DEALER)            1.0               NaN        NaN                   0.0                   0.0             0.0                   0.0                   0.0\n",
            "5   9c587aeb7fb4bfa84fcefa106774ed5303999f7e39b665...  4.0     57.35              0.812500                    0.0       3018.00   63.0                      POSTO DE GASOLINA           11.0               NaN        NaN                  11.0                   0.0             0.0                   0.0                   0.0\n",
            "6   9c587aeb7fb4bfa84fcefa106774ed5303999f7e39b665...  4.0     57.35              0.812500                    0.0       3018.00   63.0                             CAR WASHES            1.0               NaN        NaN                   0.0                   0.0             1.0                   0.0                   0.0\n",
            "7   a3ab7716f5d58438521fc7b910269bf45186f7941d0ded...  6.0     12.10              0.590000                    0.0       3900.00   29.0                      POSTO DE GASOLINA           15.0               NaN        NaN                  15.0                   0.0             0.0                   0.0                   0.0\n",
            "8   a3ab7716f5d58438521fc7b910269bf45186f7941d0ded...  6.0     12.10              0.590000                    0.0       3900.00   29.0               PARKING LOTS AND GARAGES            3.0               NaN        NaN                   0.0                   0.0             0.0                   3.0                   0.0\n",
            "9   7837922a29de589eb6ea661d134740d6d1090bd72f65f6...  3.0     -0.94              0.487917                    0.0       2012.00   27.0                                    NaN            NaN               NaN        NaN                   NaN                   0.0             NaN                   NaN                   0.0\n",
            "10  17e72c50c9f38e564a3f76fcdd91672400c3358a6212d6...  4.0      1.73              0.692500                    0.0       2631.20   26.0                      POSTO DE GASOLINA            4.0               NaN        NaN                   4.0                   0.0             0.0                   0.0                   0.0\n",
            "11  17e72c50c9f38e564a3f76fcdd91672400c3358a6212d6...  4.0      1.73              0.692500                    0.0       2631.20   26.0           MOTORCYCLE SHOPS AND DEALERS            1.0               NaN        NaN                   0.0                   0.0             0.0                   0.0                   0.0\n",
            "12  bb55f2c6a6bcdf0429151b8da7093aaca5cc68e0341b04...  9.0    495.76              0.975000                    0.0       3317.36   56.0                      POSTO DE GASOLINA            4.0               NaN        NaN                   4.0                   0.0             0.0                   0.0                   0.0\n",
            "13  ec93cb1a59d063a17b892657052785711356be3e09ddd2...  2.0    188.96              0.522222                    0.0       1212.00   37.0                                    NaN            NaN               NaN        NaN                   NaN                   0.0             NaN                   NaN                   0.0\n",
            "14  90048140be5b87f558aa7ff60e87fa1cb0e6211707396c...  0.0     -0.34              0.118833                    0.0       3000.00   22.0                                    NaN            NaN               NaN        NaN                   NaN                   0.0             NaN                   NaN                   0.0\n",
            "15  c00ed92b78da331bfceb76b494dbda428c62f83249f1b5...  0.0      1.46              0.000000                    0.0       2100.00   32.0                                    NaN            NaN               NaN        NaN                   NaN                   0.0             NaN                   NaN                   0.0\n",
            "16  755c81ab391dc9865abc2b44868ba9dfd61375d365150f...  1.0     -0.34              0.000000                    0.0       2600.00   29.0                                    NaN            NaN               NaN        NaN                   NaN                   0.0             NaN                   NaN                   0.0\n",
            "17  5771c352e887ef47f91d313147e54bf62abe0f2f86e62a...  0.0      1.05              0.000000                    0.0       3482.90   62.0                                    NaN            NaN               NaN        NaN                   NaN                   0.0             NaN                   NaN                   0.0\n",
            "18  b17855fa3c3ad17b651cec2c8f83a626cba21ed20d7947...  0.0      0.04              0.000000                    0.0       6650.00   40.0                                    NaN            NaN               NaN        NaN                   NaN                   0.0             NaN                   NaN                   0.0\n",
            "19  1445e135b96f21bc9d3bfe1c49cec13938f937cee005b0...  0.0      0.37              0.000000                    0.0        970.00   29.0                                    NaN            NaN               NaN        NaN                   NaN                   0.0             NaN                   NaN                   0.0\n"
          ]
        }
      ]
    },
    {
      "cell_type": "markdown",
      "source": [
        "## Tranformação do credito_automovel"
      ],
      "metadata": {
        "id": "d56oiIJtkIXP"
      }
    },
    {
      "cell_type": "markdown",
      "source": [
        "Agora vou verificar o que temos na coluna 'credito_automovel':"
      ],
      "metadata": {
        "id": "3KWmUARXkPwB"
      }
    },
    {
      "cell_type": "code",
      "source": [
        "#Verificar quantos valores unicos tem na coluna credito_automovel\n",
        "valores_credito = df_base_clientes['credito_automovel'].unique()\n",
        "print(\"Valores únicos na coluna 'credito_automovel':\")\n",
        "print(valores_credito)"
      ],
      "metadata": {
        "colab": {
          "base_uri": "https://localhost:8080/"
        },
        "id": "-wOvFlVHkTvb",
        "outputId": "44310675-3dab-432c-c41e-d86f18e2884c"
      },
      "execution_count": 7,
      "outputs": [
        {
          "output_type": "stream",
          "name": "stdout",
          "text": [
            "Valores únicos na coluna 'credito_automovel':\n",
            "[nan 'VEICULOS E UTILITARIOS LEVES - REVENDAS                   '\n",
            " 'FISITAL - FINANC. VEICULOS                                '\n",
            " 'VEÍCULOS DE PASSEIO                                       '\n",
            " 'CREDITO PRE-APROVADO VEICULOS LEVES UA                    '\n",
            " 'VEICULOS PESADOS - REVENDAS                               '\n",
            " 'VEÍCULOS UTILITÁRIOS LEVES                                '\n",
            " 'VEÍCULOS PESADOS                                          '\n",
            " 'VEICULOS E UTI. LEVES - REVENDAS - NOVO ASSOCIADO         '\n",
            " 'PORTABILIDADE CRÉDITO VEÍCULOS                            ']\n"
          ]
        }
      ]
    },
    {
      "cell_type": "markdown",
      "source": [
        "Podemos observar que temos muitos valores o que não é nosso interesse, então vamos criar uma coluna chamada 'possui_credito_auto' e popular com 1 caso a coluna 'credito_automovel' não for nula:"
      ],
      "metadata": {
        "id": "FZelC6YakZu8"
      }
    },
    {
      "cell_type": "code",
      "source": [
        "#Criar uma coluna que valida se o cliente possui credito automovel coloca 1 e 0 se não possuir\n",
        "df_base_clientes['possui_credito_auto'] = np.where(df_base_clientes['credito_automovel'].notna(), 1, 0)"
      ],
      "metadata": {
        "id": "C7tR8d-ykqEo"
      },
      "execution_count": 8,
      "outputs": []
    },
    {
      "cell_type": "markdown",
      "source": [
        "## Transformação do possui bem"
      ],
      "metadata": {
        "id": "UETmWCaRGy-J"
      }
    },
    {
      "cell_type": "markdown",
      "source": [
        "Agora vou verificar o que temos na coluna 'possui_bem':"
      ],
      "metadata": {
        "id": "M23nV91yFwNy"
      }
    },
    {
      "cell_type": "code",
      "source": [
        "#Verificar quantos valores unicos tem na coluna possui_bem\n",
        "valores_bens = df_base_clientes['possui_bem'].unique()\n",
        "print(\"Valores únicos na coluna 'possui_bem':\")\n",
        "print(valores_bens)"
      ],
      "metadata": {
        "collapsed": true,
        "colab": {
          "base_uri": "https://localhost:8080/"
        },
        "id": "ZcIH33jEGDgI",
        "outputId": "67602b71-377a-4953-ad1f-45c5cb590745"
      },
      "execution_count": 9,
      "outputs": [
        {
          "output_type": "stream",
          "name": "stdout",
          "text": [
            "Valores únicos na coluna 'possui_bem':\n",
            "[nan 'VEÍCULOS'\n",
            " 'AUTOMOVEL HYUNDAI CRETA 1.6 AT - PULSE PLUS. ANO/MOD: 2017/2018. COR: BRANCO POLAR SOLIDO - ADQUIRIDA DE HOUSE PARTS COMERCIO DE PECAS E VEICULOS LTDA - CNPJ: 11.472.103/0003-32 - EM OUTUBRO DE 2017 - CFE DANFE 19583 - TENDO DADO DE ENTRADA O VALOR RECEBIDO DO CREDITO QUE MANTEM COM A EMPRESA BRUM &\\nFRIEDHEIN LTDA - DECORRENTE DE EMPRESTIMO EFETUADO - ENTRADA NO VALOR DE R$ 55.000,00 E SALDO PARCELADO EM 36 VEZES DE R$ 1.071,29 - PGTO EM 2017 VALOR TOTAL R$ 2.142,58 - PGTO EM 2018 VALOR TOTAL R$ 12.855,48, CFE IR'\n",
            " ... 'VEICULO JETTA ANO 2013/2014 PLACA MLL 097'\n",
            " 'VEÍCULO CHEVROLET PRISMA, ANO 2014/2015 DE COR PRATA'\n",
            " 'VEICULO GM/CORSA CLASSIC ANO 2008/2008 - ADQUIRIDO EM\\nDEZEMBRO DE 2011 COM ALIENACAO FIDUCIARIA.\\nRENAVAM: 00967095700\\n']\n"
          ]
        }
      ]
    },
    {
      "cell_type": "markdown",
      "source": [
        "Podemos observar que temos muitos valores o que não é nosso interesse, então vamos criar uma coluna chamada 'possui_carro' e popular com 1 caso a coluna 'possui_bem' não for nula:"
      ],
      "metadata": {
        "id": "CG05XxISGQHL"
      }
    },
    {
      "cell_type": "code",
      "source": [
        "#Criar uma coluna que valida se o cliente possui bem coloca 1 e 0 se não possuir\n",
        "df_base_clientes['possui_carro'] = np.where(df_base_clientes['possui_bem'].notna(), 1, 0)"
      ],
      "metadata": {
        "id": "TC4yxXmLG38w"
      },
      "execution_count": 10,
      "outputs": []
    },
    {
      "cell_type": "code",
      "source": [
        "# Vizualizar base\n",
        "print(df_base_clientes.head(20))"
      ],
      "metadata": {
        "colab": {
          "base_uri": "https://localhost:8080/"
        },
        "id": "QUjiQN4iHQJA",
        "outputId": "77ce0540-c140-4cd4-9901-19d98d6d65c5"
      },
      "execution_count": 11,
      "outputs": [
        {
          "output_type": "stream",
          "name": "stdout",
          "text": [
            "                                       cpf_codificado  isa  mc_total  score_principalidade  prod_seguro_automovel  renda_mensal  idade                             tipo_gasto  gasto_3_meses credito_automovel possui_bem  gasto_posto_gasolina  gasto_mecanica_pecas  gasto_lava_car  gasto_estacionamento  gasto_concessionaria  possui_credito_auto  possui_carro\n",
            "0   511f3868982a8855cf79c58b8334ad461a32b68f5dded7...  4.0    417.62              0.370657                    0.0       4250.00   28.0                      POSTO DE GASOLINA            1.0               NaN        NaN                   1.0                   0.0             0.0                   0.0                   0.0                    0             0\n",
            "1   25cef0b0e3cde26e48f300ceff3fc629c41babcc673842...  3.0  -1602.17              0.273710                    0.0       6000.00   63.0                                    NaN            NaN               NaN        NaN                   NaN                   0.0             NaN                   NaN                   0.0                    0             0\n",
            "2   18d4733b6c9a09c27103ea6a547a67eb6f279404b61bd9...  4.0    151.25              0.158253                    0.0       8974.85   43.0                                    NaN            NaN               NaN        NaN                   NaN                   0.0             NaN                   NaN                   0.0                    0             0\n",
            "3   d5255b75303e65d21b40112ade9e0b2e648cd7b09bf89e...  4.0    171.61              0.186755                    0.0       6000.00   24.0                                    NaN            NaN               NaN        NaN                   NaN                   0.0             NaN                   NaN                   0.0                    0             0\n",
            "4   9c587aeb7fb4bfa84fcefa106774ed5303999f7e39b665...  4.0     57.35              0.812500                    0.0       3018.00   63.0  AUTOMOTIVE SERVICE SHOPS (NON-DEALER)            1.0               NaN        NaN                   0.0                   0.0             0.0                   0.0                   0.0                    0             0\n",
            "5   9c587aeb7fb4bfa84fcefa106774ed5303999f7e39b665...  4.0     57.35              0.812500                    0.0       3018.00   63.0                      POSTO DE GASOLINA           11.0               NaN        NaN                  11.0                   0.0             0.0                   0.0                   0.0                    0             0\n",
            "6   9c587aeb7fb4bfa84fcefa106774ed5303999f7e39b665...  4.0     57.35              0.812500                    0.0       3018.00   63.0                             CAR WASHES            1.0               NaN        NaN                   0.0                   0.0             1.0                   0.0                   0.0                    0             0\n",
            "7   a3ab7716f5d58438521fc7b910269bf45186f7941d0ded...  6.0     12.10              0.590000                    0.0       3900.00   29.0                      POSTO DE GASOLINA           15.0               NaN        NaN                  15.0                   0.0             0.0                   0.0                   0.0                    0             0\n",
            "8   a3ab7716f5d58438521fc7b910269bf45186f7941d0ded...  6.0     12.10              0.590000                    0.0       3900.00   29.0               PARKING LOTS AND GARAGES            3.0               NaN        NaN                   0.0                   0.0             0.0                   3.0                   0.0                    0             0\n",
            "9   7837922a29de589eb6ea661d134740d6d1090bd72f65f6...  3.0     -0.94              0.487917                    0.0       2012.00   27.0                                    NaN            NaN               NaN        NaN                   NaN                   0.0             NaN                   NaN                   0.0                    0             0\n",
            "10  17e72c50c9f38e564a3f76fcdd91672400c3358a6212d6...  4.0      1.73              0.692500                    0.0       2631.20   26.0                      POSTO DE GASOLINA            4.0               NaN        NaN                   4.0                   0.0             0.0                   0.0                   0.0                    0             0\n",
            "11  17e72c50c9f38e564a3f76fcdd91672400c3358a6212d6...  4.0      1.73              0.692500                    0.0       2631.20   26.0           MOTORCYCLE SHOPS AND DEALERS            1.0               NaN        NaN                   0.0                   0.0             0.0                   0.0                   0.0                    0             0\n",
            "12  bb55f2c6a6bcdf0429151b8da7093aaca5cc68e0341b04...  9.0    495.76              0.975000                    0.0       3317.36   56.0                      POSTO DE GASOLINA            4.0               NaN        NaN                   4.0                   0.0             0.0                   0.0                   0.0                    0             0\n",
            "13  ec93cb1a59d063a17b892657052785711356be3e09ddd2...  2.0    188.96              0.522222                    0.0       1212.00   37.0                                    NaN            NaN               NaN        NaN                   NaN                   0.0             NaN                   NaN                   0.0                    0             0\n",
            "14  90048140be5b87f558aa7ff60e87fa1cb0e6211707396c...  0.0     -0.34              0.118833                    0.0       3000.00   22.0                                    NaN            NaN               NaN        NaN                   NaN                   0.0             NaN                   NaN                   0.0                    0             0\n",
            "15  c00ed92b78da331bfceb76b494dbda428c62f83249f1b5...  0.0      1.46              0.000000                    0.0       2100.00   32.0                                    NaN            NaN               NaN        NaN                   NaN                   0.0             NaN                   NaN                   0.0                    0             0\n",
            "16  755c81ab391dc9865abc2b44868ba9dfd61375d365150f...  1.0     -0.34              0.000000                    0.0       2600.00   29.0                                    NaN            NaN               NaN        NaN                   NaN                   0.0             NaN                   NaN                   0.0                    0             0\n",
            "17  5771c352e887ef47f91d313147e54bf62abe0f2f86e62a...  0.0      1.05              0.000000                    0.0       3482.90   62.0                                    NaN            NaN               NaN        NaN                   NaN                   0.0             NaN                   NaN                   0.0                    0             0\n",
            "18  b17855fa3c3ad17b651cec2c8f83a626cba21ed20d7947...  0.0      0.04              0.000000                    0.0       6650.00   40.0                                    NaN            NaN               NaN        NaN                   NaN                   0.0             NaN                   NaN                   0.0                    0             0\n",
            "19  1445e135b96f21bc9d3bfe1c49cec13938f937cee005b0...  0.0      0.37              0.000000                    0.0        970.00   29.0                                    NaN            NaN               NaN        NaN                   NaN                   0.0             NaN                   NaN                   0.0                    0             0\n"
          ]
        }
      ]
    },
    {
      "cell_type": "markdown",
      "source": [
        "## Finalizar base que será usada"
      ],
      "metadata": {
        "id": "SsHLcjitH88f"
      }
    },
    {
      "cell_type": "markdown",
      "source": [
        "Antes de Finalizar a base preciso verificar se temos nullos, pois isso pode atrapalhar na proxima etapa que tenho:"
      ],
      "metadata": {
        "id": "_GSjxxO_dLpv"
      }
    },
    {
      "cell_type": "code",
      "source": [
        "# Conta os valores nulos por coluna\n",
        "nulos_por_coluna = df_base_clientes.isnull().sum()\n",
        "\n",
        "print(nulos_por_coluna)"
      ],
      "metadata": {
        "colab": {
          "base_uri": "https://localhost:8080/"
        },
        "id": "77Hf3E-RdSr7",
        "outputId": "d7f4824a-ecdc-4cde-a76a-2f2e9bf63f9e"
      },
      "execution_count": 12,
      "outputs": [
        {
          "output_type": "stream",
          "name": "stdout",
          "text": [
            "cpf_codificado               0\n",
            "isa                          0\n",
            "mc_total                     0\n",
            "score_principalidade      6148\n",
            "prod_seguro_automovel        0\n",
            "renda_mensal              1060\n",
            "idade                       62\n",
            "tipo_gasto               37790\n",
            "gasto_3_meses            37790\n",
            "credito_automovel        89048\n",
            "possui_bem               68629\n",
            "gasto_posto_gasolina     37790\n",
            "gasto_mecanica_pecas         0\n",
            "gasto_lava_car           37790\n",
            "gasto_estacionamento     37790\n",
            "gasto_concessionaria         0\n",
            "possui_credito_auto          0\n",
            "possui_carro                 0\n",
            "dtype: int64\n"
          ]
        }
      ]
    },
    {
      "cell_type": "markdown",
      "source": [
        "Como tenho conhecimento sobre como esse dataset funciona eu sei que:\n",
        "* Na coluna score_principalidade os clientes que estão nulos não possuem movimentação o suficuente para cálcular, isso acontece pois provavelmente abriram a conta a menos de 3 meses,  por esse motivo, se tratando de um cliente novo as previsões são um pouco mais complicadas pois não tem tanto histórico de movimentação, então vou retirar esses clientes;\n",
        "\n",
        "* Na coluna renda_mensal os casos nulos são por que não foi cadastrado, esse casos considerarei como 0;\n",
        "\n",
        "* Na coluna idade, muito provavelmente se trata de um erro de classificação do tipo de pessoa, não deve ser um cliente pessoa fisica pois toda pessoa fisica possui data de nascimento e concequentemente idade, por esse motivo vou filtrar o dataset tirando esses clientes;\n",
        "\n",
        "* Na coluna tipo_gasto e gasto_3_meses o null significa que esse cliente não possui esse tipo de gasto, porém essas colunas foram base para criar as seguintes: gasto_posto_gasolina, gasto_mecanica_pecas, gasto_lava_car,\n",
        "gasto_estacionamento e gasto_concessionaria. Farei a alteração de null para zero apenas nas criadas que precisarem;\n",
        "\n",
        "* Na coluna credito_automovel o null significa que esse cliente não possui esse tipo de crédito, porém essa coluna foi utilizada para criar a possui_credito_auto, a qual não tem null, então deixarei essa como esta;\n",
        "\n",
        "* Na coluna possui_bem o null significa que esse cliente não possui esse tipo de bem, porém essa coluna foi utilizada para criar a possui_carro, a qual não tem null, então deixarei essa como esta;\n"
      ],
      "metadata": {
        "id": "11uVbVwpdls6"
      }
    },
    {
      "cell_type": "code",
      "source": [
        "# Remove as linhas onde 'idade' é nulo\n",
        "df_base_clientes = df_base_clientes.dropna(subset=['idade'])\n",
        "\n",
        "# Remove as linhas onde 'score_principalidade' é nulo\n",
        "df_base_clientes = df_base_clientes.dropna(subset=['score_principalidade'])\n",
        "\n",
        "#Substuir null nas colunas necessárias\n",
        "df_base_clientes['renda_mensal'] = df_base_clientes['renda_mensal'].fillna(0)\n",
        "df_base_clientes['gasto_posto_gasolina'] = df_base_clientes['gasto_posto_gasolina'].fillna(0)\n",
        "df_base_clientes['gasto_lava_car'] = df_base_clientes['gasto_lava_car'].fillna(0)\n",
        "df_base_clientes['gasto_estacionamento'] = df_base_clientes['gasto_estacionamento'].fillna(0)"
      ],
      "metadata": {
        "collapsed": true,
        "id": "VkqCUqrEelTh"
      },
      "execution_count": 13,
      "outputs": []
    },
    {
      "cell_type": "markdown",
      "source": [
        "Agora conseguimos deixar apenas uma vez o associado, fazendo uma agregação e selecionando apenas as colunas que precisamos. Mas antes preciso saber se as colunas que vou usar são valor, para conseguir trabalhar:"
      ],
      "metadata": {
        "id": "IIHGOzb8H0da"
      }
    },
    {
      "cell_type": "code",
      "source": [
        "print(df_base_clientes.dtypes)"
      ],
      "metadata": {
        "colab": {
          "base_uri": "https://localhost:8080/"
        },
        "id": "ouimDvLciNXr",
        "outputId": "f545b802-5ffd-4715-cb60-339764ddb8b8"
      },
      "execution_count": 14,
      "outputs": [
        {
          "output_type": "stream",
          "name": "stdout",
          "text": [
            "cpf_codificado            object\n",
            "isa                      float64\n",
            "mc_total                 float64\n",
            "score_principalidade     float64\n",
            "prod_seguro_automovel    float64\n",
            "renda_mensal             float64\n",
            "idade                    float64\n",
            "tipo_gasto                object\n",
            "gasto_3_meses            float64\n",
            "credito_automovel         object\n",
            "possui_bem                object\n",
            "gasto_posto_gasolina     float64\n",
            "gasto_mecanica_pecas     float64\n",
            "gasto_lava_car           float64\n",
            "gasto_estacionamento     float64\n",
            "gasto_concessionaria     float64\n",
            "possui_credito_auto        int64\n",
            "possui_carro               int64\n",
            "dtype: object\n"
          ]
        }
      ]
    },
    {
      "cell_type": "markdown",
      "source": [
        "Das colunas que vamos usar, apena mc_total, score_principalidade e renda_mensal precisam ser float, as demais vou tranformar em int:"
      ],
      "metadata": {
        "id": "8-S2-SiViwyj"
      }
    },
    {
      "cell_type": "code",
      "source": [
        "#Tranformar as colunas em inteiro\n",
        "df_base_clientes['isa'] = df_base_clientes['isa'].astype(int)\n",
        "df_base_clientes['prod_seguro_automovel'] = df_base_clientes['prod_seguro_automovel'].astype(int)\n",
        "df_base_clientes['idade'] = df_base_clientes['idade'].astype(int)\n",
        "df_base_clientes['gasto_posto_gasolina'] = df_base_clientes['gasto_posto_gasolina'].astype(int)\n",
        "df_base_clientes['gasto_mecanica_pecas'] = df_base_clientes['gasto_mecanica_pecas'].astype(int)\n",
        "df_base_clientes['gasto_lava_car'] = df_base_clientes['gasto_lava_car'].astype(int)\n",
        "df_base_clientes['gasto_estacionamento'] = df_base_clientes['gasto_estacionamento'].astype(int)\n",
        "df_base_clientes['gasto_concessionaria'] = df_base_clientes['gasto_concessionaria'].astype(int)"
      ],
      "metadata": {
        "collapsed": true,
        "id": "3TqVKqVziuv-"
      },
      "execution_count": 15,
      "outputs": []
    },
    {
      "cell_type": "markdown",
      "source": [
        "Note que usarei a média em praticamente todas colunas, apenas nas colunas criadas de tipos de gastos trabalharei uma soma, optei por trabalhar assim pois ao avaliar a base veriquei que o mesmo associado sempre apresenta o mesmo valor em todas as colunas menos nas colunas 'tipo_gasto' e 'gasto_3_meses, e nas novas colunas que criei de gastos algumas pegam mais de um tipo, então precisa somar para saber quantas vezes teve gasto daquale:"
      ],
      "metadata": {
        "id": "pFJAQ99EiuGU"
      }
    },
    {
      "cell_type": "code",
      "source": [
        "#Agregar base pelo cpf_codificado\n",
        "df_base_clientes = df_base_clientes.groupby('cpf_codificado').agg({\n",
        "    'isa': 'mean',\n",
        "    'mc_total': 'mean',\n",
        "    'score_principalidade': 'mean',\n",
        "    'prod_seguro_automovel': 'mean',\n",
        "    'renda_mensal': 'mean',\n",
        "    'idade': 'mean',\n",
        "    'possui_credito_auto': 'mean',\n",
        "    'gasto_posto_gasolina': 'sum',\n",
        "    'gasto_mecanica_pecas': 'sum',\n",
        "    'gasto_lava_car': 'sum',\n",
        "    'gasto_estacionamento': 'sum',\n",
        "    'gasto_concessionaria': 'sum',\n",
        "    'possui_carro': 'mean'\n",
        "}).reset_index()"
      ],
      "metadata": {
        "id": "NudmP9w1IBhP"
      },
      "execution_count": 16,
      "outputs": []
    },
    {
      "cell_type": "code",
      "source": [
        "# Vizualizar base\n",
        "print(df_base_clientes.head(20))"
      ],
      "metadata": {
        "colab": {
          "base_uri": "https://localhost:8080/"
        },
        "id": "JqKq08lfldf7",
        "outputId": "1ddb9211-6eb4-45ad-e4e4-22d8906bfb94"
      },
      "execution_count": 17,
      "outputs": [
        {
          "output_type": "stream",
          "name": "stdout",
          "text": [
            "                                       cpf_codificado   isa  mc_total  score_principalidade  prod_seguro_automovel  renda_mensal  idade  possui_credito_auto  gasto_posto_gasolina  gasto_mecanica_pecas  gasto_lava_car  gasto_estacionamento  gasto_concessionaria  possui_carro\n",
            "0   00018c293348e882f3fcf011de4aa6041cec460dcd6413...   0.0     -0.34              0.044667                    0.0       2003.89   39.0                  0.0                     0                     0               0                     0                     0           0.0\n",
            "1   000190fb6d45f7b2401d25432c34db940d44ec07a864bd...  11.0    236.47              0.950598                    0.0          0.00   24.0                  0.0                     3                     3               0                     2                     0           0.0\n",
            "2   00026206f25f6b402cb0ad4a6c85a052bb51308a60a58c...   7.0     61.58              0.811080                    0.0      10000.00   34.0                  0.0                     4                     0               1                     1                     0           0.0\n",
            "3   000455ab7f30aa02b4fc710623cdf5ff1bb7d622925939...   0.0     -1.17              0.000000                    0.0       3000.00   41.0                  0.0                     0                     0               0                     0                     0           0.0\n",
            "4   00046b5dff79ed8c4a297256ea0cd9b3d553807687f568...   2.0     -0.34              0.134500                    0.0       3053.86   28.0                  0.0                     0                     0               0                     0                     0           0.0\n",
            "5   00052214471cd34f317aab27272f489a68bbbf42b84d70...  10.0    279.71              0.805000                    0.0      10000.00   64.0                  0.0                     9                     0               0                     0                     0           0.0\n",
            "6   000539e77ce351e5ae5a612b7c226488354fbd3d46a1b0...   0.0      0.36              0.000000                    0.0       3959.65   39.0                  0.0                     0                     0               0                     0                     0           0.0\n",
            "7   000a040f6d9879d404fc89c34586ce8e169bcd3ace8f05...   0.0     -0.11              0.000000                    0.0        998.00   49.0                  0.0                     0                     0               0                     0                     0           0.0\n",
            "8   000aa3fb602889ddb5556af611e709cb5ad1953828cfef...   1.0      0.67              0.000000                    0.0       4100.00   53.0                  0.0                     0                     0               0                     0                     0           0.0\n",
            "9   000b8780e128fcfbe2d6abd062a0a8aa33fcaffb430815...   6.0    212.88              0.835269                    0.0       4587.77   72.0                  0.0                     7                     0               0                     0                     0           0.0\n",
            "10  000ba3756e7a925524d74d9753506becefc7c7a726c546...   5.0     72.77              0.249239                    0.0       6376.72   42.0                  0.0                     0                     0               0                     0                     0           1.0\n",
            "11  000cbf3fb9e0670f67beec84fe02961d2920dba81cd9af...   3.0     52.00              0.601250                    0.0       1545.00   26.0                  0.0                     4                     1               0                     0                     0           0.0\n",
            "12  000d6e1ad97a9882efaca443ca76cd73455808bd2f93b1...   4.0    297.66              0.772000                    0.0       2873.36   30.0                  0.0                     2                     0               0                     1                     0           0.0\n",
            "13  000f2829710b357042c462fdb85ed1e3f565f8fb59499c...   6.0     25.29              0.616667                    0.0        950.00   22.0                  0.0                     0                     0               0                     0                     0           0.0\n",
            "14  00108284eadb2c1f7406b7c087e3824b862ff330973cca...   4.0      2.38              0.550000                    0.0       2600.00   32.0                  0.0                     0                     0               0                     0                     0           0.0\n",
            "15  0010b2ff6819013ad65c58c1a5e2073e62bf1b8b6cb89c...   1.0      0.04              0.000000                    0.0       2810.00   31.0                  0.0                     0                     0               0                     0                     0           0.0\n",
            "16  001283612744e30e4b2a55075f8ede4ec506dfb91a408b...   0.0     -1.23              0.000000                    0.0       1414.00   21.0                  0.0                     0                     0               0                     0                     0           0.0\n",
            "17  001362a8ed9e9d0136492d3f2f746b53165e747bf7c443...   0.0      5.17              0.000000                    0.0          0.00   62.0                  0.0                     0                     0               0                     0                     0           0.0\n",
            "18  001371869b3b91cefac690c827fa8938f77927ab81fa62...   2.0      0.10              0.345333                    0.0       1800.00   24.0                  0.0                     0                     0               0                     0                     0           0.0\n",
            "19  00168e2f62079d089a905f505914a149cf838ca1cc1484...   1.0    -15.03              0.217606                    0.0       1900.00   34.0                  0.0                     0                     0               0                     0                     0           0.0\n"
          ]
        }
      ]
    },
    {
      "cell_type": "markdown",
      "metadata": {
        "id": "Stw39iQBnc_w"
      },
      "source": [
        "#Validar Premissas e Hipóteses"
      ]
    },
    {
      "cell_type": "markdown",
      "metadata": {
        "id": "D_PdmK8_1FH_"
      },
      "source": [
        "Com a base pronta, vamos entender melhor esses dados, fazer um cálculo de média para entender como cada intem se comporta para clientes que possuem ou não seguro auto"
      ]
    },
    {
      "cell_type": "code",
      "source": [
        "#Agregar base pelo cpf_codificado\n",
        "df_base_clientes_analise = df_base_clientes.groupby('prod_seguro_automovel').agg({\n",
        "    'cpf_codificado': 'count',\n",
        "    'isa': 'mean',\n",
        "    'mc_total': 'mean',\n",
        "    'score_principalidade': 'mean',\n",
        "    'renda_mensal': 'mean',\n",
        "    'idade': 'mean',\n",
        "    'possui_credito_auto': 'mean',\n",
        "    'gasto_posto_gasolina': 'mean',\n",
        "    'gasto_mecanica_pecas': 'mean',\n",
        "    'gasto_lava_car': 'mean',\n",
        "    'gasto_estacionamento': 'mean',\n",
        "    'gasto_concessionaria': 'mean',\n",
        "    'possui_carro': 'mean'\n",
        "}).reset_index()"
      ],
      "metadata": {
        "id": "xfB9YuvDl0Sk"
      },
      "execution_count": 18,
      "outputs": []
    },
    {
      "cell_type": "code",
      "source": [
        "# Vizualizar base\n",
        "print(df_base_clientes_analise.head(20))"
      ],
      "metadata": {
        "colab": {
          "base_uri": "https://localhost:8080/"
        },
        "id": "wo4AS62FmEyo",
        "outputId": "868083ec-0283-4d00-b915-cdae372f1b02"
      },
      "execution_count": 19,
      "outputs": [
        {
          "output_type": "stream",
          "name": "stdout",
          "text": [
            "   prod_seguro_automovel  cpf_codificado       isa    mc_total  score_principalidade  renda_mensal      idade  possui_credito_auto  gasto_posto_gasolina  gasto_mecanica_pecas  gasto_lava_car  gasto_estacionamento  gasto_concessionaria  possui_carro\n",
            "0                    0.0           55155  3.996319   76.539281              0.436695   5447.483186  41.523887             0.027849              4.647774              0.395232        0.039634              0.406944                   0.0      0.155308\n",
            "1                    1.0            1413  8.958245  326.801522              0.741908   7586.290410  47.811040             0.162067             11.723992              0.791224        0.092003              1.099788                   0.0      0.528662\n"
          ]
        }
      ]
    },
    {
      "cell_type": "markdown",
      "source": [
        "A primeira coisa que podemos observar é que os dados estão muito desbalanceados, pouquissimos clientes possuem esse produto. Porém, podemos observar algumas coisas:\n",
        "\n",
        "1. Existe uma faixa etária mais inclinada a contratar esse produto?\n",
        "A média da idade dos clientes que possuem esse seguro é um pouco maior dos que não tem.\n",
        "\n",
        "2. Existe um faixa de renda mais inclinada a contratar esse produto?\n",
        "A média da renda dos clientes que possuem esse seguro é cerca de 2000 reais a mais.\n",
        "\n",
        "3. Clientes que possuem esse produto na instituição financeira, gastam com carro em seus cartões (gasolina, mecânica, lavacar, estacionamento, pedágio)?\n",
        "Sim, cerca de 3 vezes mais em todos os gastos relacionados.\n",
        "\n",
        "4. Clientes que possuem esse produto na instituição financeira possuem uma movimentação maior que os que não possuem?\n",
        "Sim, possuem mais produtos, mais margem de contribuição e uma principalidade maior, além disso possum um cadastro mais atualizado, uma vez que em média esses clientes possuem mais carros registrados entre seus bens."
      ],
      "metadata": {
        "id": "a4Hy6EpTvZmO"
      }
    },
    {
      "cell_type": "markdown",
      "source": [
        "#Prepar a base para o treinamento"
      ],
      "metadata": {
        "id": "kRKM_3RA_btV"
      }
    },
    {
      "cell_type": "markdown",
      "source": [
        "Primeiramente eu vou definir na minha base qual é minha target e que opções de features eu tenho.\n",
        "\n",
        "Minha target obviamente é a coluna prod_seguro_automovel, quero identificar que associados são propensos a contratar esse produto, e as demais coluna tirando o cpf_codificado, são minhas opções de features."
      ],
      "metadata": {
        "id": "hiQ58tawApwX"
      }
    },
    {
      "cell_type": "code",
      "source": [
        "# Divisão em features(x) e target(y)\n",
        "X = df_base_clientes.drop(columns=['cpf_codificado', 'prod_seguro_automovel'])\n",
        "y = df_base_clientes['prod_seguro_automovel']"
      ],
      "metadata": {
        "id": "myJCn2xm_kga"
      },
      "execution_count": 20,
      "outputs": []
    },
    {
      "cell_type": "markdown",
      "source": [
        "Agora vou dividir minha base em treino e teste, optei por trabalhar o padrão que vemos ao estudar que é de 70% treino e 30% teste"
      ],
      "metadata": {
        "id": "0Cz2Zh2iBW34"
      }
    },
    {
      "cell_type": "code",
      "source": [
        "# Dividindo em treino e teste\n",
        "X_train, X_test, y_train, y_test = train_test_split(X, y, test_size=0.3, random_state=42, stratify=y)"
      ],
      "metadata": {
        "id": "7NVCImxlBUHJ"
      },
      "execution_count": 21,
      "outputs": []
    },
    {
      "cell_type": "markdown",
      "source": [
        "E para melhorar o desempenho dos algoritmos de aprendizagem, vou trabalhar a normalização também.\n",
        "\n",
        "Estava entre MinMaxScaler e StandardScaler, mas optei pelo StandardScaler."
      ],
      "metadata": {
        "id": "woLvG71HCL1-"
      }
    },
    {
      "cell_type": "code",
      "source": [
        "# Normalização dos dados\n",
        "scaler = StandardScaler()\n",
        "X_train_norm = pd.DataFrame(scaler.fit_transform(X_train), columns=X_train.columns)\n",
        "X_test_norm = pd.DataFrame(scaler.transform(X_test), columns=X_test.columns)"
      ],
      "metadata": {
        "id": "M1bggUoFCLRu"
      },
      "execution_count": 22,
      "outputs": []
    },
    {
      "cell_type": "markdown",
      "source": [
        "Como comentado na etapa de validar as premissas e hipóteses, minha base está bem desbalanceada, então utilizarei o smote para resolver isso, optei por utilizar o SMOTE por ter menos desvantagens que os outros que estudei, além desse cogitei a utilização dos seguintes:\n",
        "* Oversampling Tradicional - pode levar ao overfitting;\n",
        "* Undersampling - Pode remover dados importantes;\n",
        "* Ajuste de Pesos (Class Weights) - Meus dados estão bem desbalanceados (cerca de 5% da base possui o target);"
      ],
      "metadata": {
        "id": "VXep31x_By4s"
      }
    },
    {
      "cell_type": "code",
      "source": [
        "# Tratando o desbalanceamento com SMOTE\n",
        "smote = SMOTE(random_state=42)\n",
        "X_train_balanced, y_train_balanced = smote.fit_resample(X_train_norm, y_train)"
      ],
      "metadata": {
        "id": "42TDpMgoCBxq"
      },
      "execution_count": 23,
      "outputs": []
    },
    {
      "cell_type": "markdown",
      "source": [
        "#Seleção das features"
      ],
      "metadata": {
        "id": "rmlUALC89ie8"
      }
    },
    {
      "cell_type": "markdown",
      "source": [
        "Para a seleção das features, eu testarei 3 modelos diferente, como tenho conhecimento da base conseguirei validar qual considero melhor."
      ],
      "metadata": {
        "id": "tmGN__H2KlDw"
      }
    },
    {
      "cell_type": "code",
      "source": [
        "# Seleção univariada\n",
        "select_kbest = SelectKBest(score_func=f_classif, k=5)\n",
        "X_kbest = select_kbest.fit_transform(X_train_balanced, y_train_balanced)\n",
        "kbest_features = X_train_balanced.columns[select_kbest.get_support()]\n",
        "\n",
        "# Importância com Random Forest\n",
        "rf_selector = RandomForestClassifier(random_state=42)\n",
        "rf_selector.fit(X_train_balanced, y_train_balanced)\n",
        "rf_importances = pd.Series(rf_selector.feature_importances_, index=X_train_balanced.columns)\n",
        "rf_selected_features = rf_importances.nlargest(5).index\n",
        "\n",
        "# Seleção com Informação Mútua\n",
        "mutual_info = mutual_info_classif(X_train_balanced, y_train_balanced)\n",
        "mutual_info_series = pd.Series(mutual_info, index=X_train_balanced.columns)\n",
        "mutual_info_features = mutual_info_series.nlargest(5).index\n",
        "\n",
        "print(\"\\nSeleção de Features:\")\n",
        "print(f\"SelectKBest: {list(kbest_features)}\")\n",
        "print(f\"RandomForest: {list(rf_selected_features)}\")\n",
        "print(f\"Mutual Information: {list(mutual_info_features)}\")"
      ],
      "metadata": {
        "colab": {
          "base_uri": "https://localhost:8080/"
        },
        "id": "jWJBGlNMJ25V",
        "outputId": "8abc0f2f-e373-49c1-8001-fa3d5230e9fd"
      },
      "execution_count": 24,
      "outputs": [
        {
          "output_type": "stream",
          "name": "stderr",
          "text": [
            "/usr/local/lib/python3.10/dist-packages/sklearn/feature_selection/_univariate_selection.py:112: UserWarning: Features [10] are constant.\n",
            "  warnings.warn(\"Features %s are constant.\" % constant_features_idx, UserWarning)\n",
            "/usr/local/lib/python3.10/dist-packages/sklearn/feature_selection/_univariate_selection.py:113: RuntimeWarning: invalid value encountered in divide\n",
            "  f = msb / msw\n"
          ]
        },
        {
          "output_type": "stream",
          "name": "stdout",
          "text": [
            "\n",
            "Seleção de Features:\n",
            "SelectKBest: ['isa', 'score_principalidade', 'idade', 'possui_credito_auto', 'possui_carro']\n",
            "RandomForest: ['isa', 'mc_total', 'score_principalidade', 'idade', 'gasto_posto_gasolina']\n",
            "Mutual Information: ['idade', 'gasto_posto_gasolina', 'isa', 'score_principalidade', 'renda_mensal']\n"
          ]
        }
      ]
    },
    {
      "cell_type": "markdown",
      "source": [
        "Podemos observar que isa, idade e principalidade aparece nos três.\n",
        "\n",
        "Avaliando o SelectKBest, possui_credito_auto e possui_carro são features que possuem uma representação baixa(conforme podemos observar na etapa de validação), então acredito que não são features boas.\n",
        "\n",
        "Avaliando o RandomForest, gasto_posto_gasolina realmente tem uma boa representatividade nos clientes que possuem o seguro auto e o mc_total desses clientes também é consideravelmente maior com relação ao outro grupo. Essa é uma opção boa.\n",
        "\n",
        "Com relação ao Mutual Information, nele temos de novo a renda_mensal, que também é consideravelmente maior no publico que possui o seguro auto, além é claro do gasto_posto_gasolina que ja avaliamos.\n",
        "\n",
        "Então, minha decisão com base nesses algoritmos e conforme minha experiência com essas bases, optarei por trabalhar com as seguintes features:\n",
        "isa, idade, principalidade, mc_total e renda_mensal"
      ],
      "metadata": {
        "id": "IQLhCmRJMkl6"
      }
    },
    {
      "cell_type": "markdown",
      "source": [
        "#Treinamento"
      ],
      "metadata": {
        "id": "yyPJdUCxQ7Jm"
      }
    },
    {
      "cell_type": "markdown",
      "source": [
        "Primeiramente, vou começar deixando apenas as features que preciso."
      ],
      "metadata": {
        "id": "-zqQym9LRA91"
      }
    },
    {
      "cell_type": "code",
      "source": [
        "#Selecionar features e criar nova base de x_train e x_test\n",
        "features_to_use = ['isa', 'idade', 'score_principalidade', 'mc_total', 'renda_mensal']\n",
        "X_train = X_train_balanced[features_to_use]\n",
        "X_test = X_test[features_to_use]\n",
        "y_train = y_train_balanced"
      ],
      "metadata": {
        "id": "4-hTDbE_Q6fv"
      },
      "execution_count": 25,
      "outputs": []
    },
    {
      "cell_type": "markdown",
      "source": [
        "Agora eu vou treinar 5 algoritmos diferentes, sendo eles:\n",
        "\n",
        "* LogisticRegression;\n",
        "* RandomForestClassifier;\n",
        "* GradientBoostingClassifier;\n",
        "* SVC;\n",
        "* KNeighborsClassifier;\n",
        "\n",
        "Optei por utilizar os hiperparametros que geralmente são utilizados, mas em um contexto de trabalho, provavelmente treinaria com diversaos hiperparametros diferentes para chegar no que acredito ser o ideal."
      ],
      "metadata": {
        "id": "bYfphtdPWAq5"
      }
    },
    {
      "cell_type": "code",
      "source": [
        "# Logistic Regression\n",
        "lr = LogisticRegression(random_state=42)\n",
        "lr.fit(X_train, y_train)\n",
        "y_pred_lr = lr.predict(X_test)\n",
        "\n",
        "accuracy_lr = accuracy_score(y_test, y_pred_lr)\n",
        "precision_lr = precision_score(y_test, y_pred_lr, average='weighted')\n",
        "recall_lr = recall_score(y_test, y_pred_lr, average='weighted')\n",
        "f1_lr = f1_score(y_test, y_pred_lr, average='weighted')\n",
        "conf_matrix_lr = confusion_matrix(y_test, y_pred_lr)"
      ],
      "metadata": {
        "id": "Gpwfg2tiRETR"
      },
      "execution_count": 26,
      "outputs": []
    },
    {
      "cell_type": "code",
      "source": [
        "# Random Forest\n",
        "rf = RandomForestClassifier(random_state=42)\n",
        "rf.fit(X_train, y_train)\n",
        "y_pred_rf = rf.predict(X_test)\n",
        "\n",
        "accuracy_rf = accuracy_score(y_test, y_pred_rf)\n",
        "precision_rf = precision_score(y_test, y_pred_rf, average='weighted')\n",
        "recall_rf = recall_score(y_test, y_pred_rf, average='weighted')\n",
        "f1_rf = f1_score(y_test, y_pred_rf, average='weighted')\n",
        "conf_matrix_rf = confusion_matrix(y_test, y_pred_rf)"
      ],
      "metadata": {
        "id": "vbf2PIC1VT-h"
      },
      "execution_count": 27,
      "outputs": []
    },
    {
      "cell_type": "code",
      "source": [
        "# Gradient Boosting\n",
        "gb = GradientBoostingClassifier(random_state=42)\n",
        "gb.fit(X_train, y_train)\n",
        "y_pred_gb = gb.predict(X_test)\n",
        "\n",
        "accuracy_gb = accuracy_score(y_test, y_pred_gb)\n",
        "precision_gb = precision_score(y_test, y_pred_gb, average='weighted')\n",
        "recall_gb = recall_score(y_test, y_pred_gb, average='weighted')\n",
        "f1_gb = f1_score(y_test, y_pred_gb, average='weighted')\n",
        "conf_matrix_gb = confusion_matrix(y_test, y_pred_gb)"
      ],
      "metadata": {
        "id": "8XQSSHtGVr4C"
      },
      "execution_count": 28,
      "outputs": []
    },
    {
      "cell_type": "code",
      "source": [
        "# SVM\n",
        "svm = SVC(random_state=42)\n",
        "svm.fit(X_train, y_train)\n",
        "y_pred_svm = svm.predict(X_test)\n",
        "\n",
        "accuracy_svm = accuracy_score(y_test, y_pred_svm)\n",
        "precision_svm = precision_score(y_test, y_pred_svm, average='weighted')\n",
        "recall_svm = recall_score(y_test, y_test, average='weighted')\n",
        "f1_svm = f1_score(y_test, y_pred_svm, average='weighted')\n",
        "conf_matrix_svm = confusion_matrix(y_test, y_pred_svm)"
      ],
      "metadata": {
        "colab": {
          "base_uri": "https://localhost:8080/"
        },
        "id": "d9U8XhXqVygO",
        "outputId": "15be830e-0aa9-47df-8829-9cf3f8ee7fb1"
      },
      "execution_count": 32,
      "outputs": [
        {
          "output_type": "stream",
          "name": "stderr",
          "text": [
            "/usr/local/lib/python3.10/dist-packages/sklearn/metrics/_classification.py:1531: UndefinedMetricWarning: Precision is ill-defined and being set to 0.0 in labels with no predicted samples. Use `zero_division` parameter to control this behavior.\n",
            "  _warn_prf(average, modifier, f\"{metric.capitalize()} is\", len(result))\n"
          ]
        }
      ]
    },
    {
      "cell_type": "code",
      "source": [
        "# KNN\n",
        "knn = KNeighborsClassifier()\n",
        "knn.fit(X_train, y_train)\n",
        "y_pred_knn = knn.predict(X_test)\n",
        "\n",
        "accuracy_knn = accuracy_score(y_test, y_pred_knn)\n",
        "precision_knn = precision_score(y_test, y_pred_knn, average='weighted')\n",
        "recall_knn = recall_score(y_test, y_pred_knn, average='weighted')\n",
        "f1_knn = f1_score(y_test, y_pred_knn, average='weighted')\n",
        "conf_matrix_knn = confusion_matrix(y_test, y_pred_knn)"
      ],
      "metadata": {
        "id": "SqHTPzrlV1Fz"
      },
      "execution_count": 33,
      "outputs": []
    },
    {
      "cell_type": "markdown",
      "source": [
        "Agora vamos vizualizar os resultados que cada um dos algoritmos gerou e avaliar qual seria o mais indicado."
      ],
      "metadata": {
        "id": "LGAC_D0tWTzT"
      }
    },
    {
      "cell_type": "code",
      "source": [
        "# Logistic Regression\n",
        "ConfusionMatrixDisplay(conf_matrix_lr, display_labels=lr.classes_).plot(cmap='Blues', values_format='d')\n",
        "plt.title(\"Logistic Regression\")\n",
        "plt.figure(figsize=(5, 4))  # Ajuste o tamanho da matriz de confusão\n",
        "plt.tight_layout()\n",
        "plt.show()\n",
        "\n",
        "print(\"Logistic Regression\")\n",
        "print(f\"Accuracy: {accuracy_lr:.4f}\")\n",
        "print(f\"Precision: {precision_lr:.4f}\")\n",
        "print(f\"Recall: {recall_lr:.4f}\")\n",
        "print(f\"F1 Score: {f1_lr:.4f}\")\n",
        "print(\"\\n\" + \"-\"*50 + \"\\n\")\n",
        "\n",
        "# Random Forest\n",
        "ConfusionMatrixDisplay(conf_matrix_rf, display_labels=rf.classes_).plot(cmap='Blues', values_format='d')\n",
        "plt.title(\"Random Forest\")\n",
        "plt.figure(figsize=(5, 4))  # Ajuste o tamanho da matriz de confusão\n",
        "plt.tight_layout()\n",
        "plt.show()\n",
        "\n",
        "print(\"Random Forest\")\n",
        "print(f\"Accuracy: {accuracy_rf:.4f}\")\n",
        "print(f\"Precision: {precision_rf:.4f}\")\n",
        "print(f\"Recall: {recall_rf:.4f}\")\n",
        "print(f\"F1 Score: {f1_rf:.4f}\")\n",
        "print(\"\\n\" + \"-\"*50 + \"\\n\")\n",
        "\n",
        "# Gradient Boosting\n",
        "ConfusionMatrixDisplay(conf_matrix_gb, display_labels=gb.classes_).plot(cmap='Blues', values_format='d')\n",
        "plt.title(\"Gradient Boosting\")\n",
        "plt.figure(figsize=(5, 4))  # Ajuste o tamanho da matriz de confusão\n",
        "plt.tight_layout()\n",
        "plt.show()\n",
        "\n",
        "print(\"Gradient Boosting\")\n",
        "print(f\"Accuracy: {accuracy_gb:.4f}\")\n",
        "print(f\"Precision: {precision_gb:.4f}\")\n",
        "print(f\"Recall: {recall_gb:.4f}\")\n",
        "print(f\"F1 Score: {f1_gb:.4f}\")\n",
        "print(\"\\n\" + \"-\"*50 + \"\\n\")\n",
        "\n",
        "# SVM\n",
        "ConfusionMatrixDisplay(conf_matrix_svm, display_labels=svm.classes_).plot(cmap='Blues', values_format='d')\n",
        "plt.title(\"SVM\")\n",
        "plt.figure(figsize=(5, 4))  # Ajuste o tamanho da matriz de confusão\n",
        "plt.tight_layout()\n",
        "plt.show()\n",
        "\n",
        "print(\"SVM\")\n",
        "print(f\"Accuracy: {accuracy_svm:.4f}\")\n",
        "print(f\"Precision: {precision_svm:.4f}\")\n",
        "print(f\"Recall: {recall_svm:.4f}\")\n",
        "print(f\"F1 Score: {f1_svm:.4f}\")\n",
        "print(\"\\n\" + \"-\"*50 + \"\\n\")\n",
        "\n",
        "# KNN\n",
        "ConfusionMatrixDisplay(conf_matrix_knn, display_labels=knn.classes_).plot(cmap='Blues', values_format='d')\n",
        "plt.title(\"KNN\")\n",
        "plt.figure(figsize=(5, 4))  # Ajuste o tamanho da matriz de confusão\n",
        "plt.tight_layout()\n",
        "plt.show()\n",
        "\n",
        "print(\"KNN\")\n",
        "print(f\"Accuracy: {accuracy_knn:.4f}\")\n",
        "print(f\"Precision: {precision_knn:.4f}\")\n",
        "print(f\"Recall: {recall_knn:.4f}\")\n",
        "print(f\"F1 Score: {f1_knn:.4f}\")"
      ],
      "metadata": {
        "colab": {
          "base_uri": "https://localhost:8080/",
          "height": 1000
        },
        "id": "gG3F3mvdWSlf",
        "outputId": "c8260943-7c01-4b80-e524-af877c163374"
      },
      "execution_count": 40,
      "outputs": [
        {
          "output_type": "display_data",
          "data": {
            "text/plain": [
              "<Figure size 640x480 with 2 Axes>"
            ],
            "image/png": "[encoded data removed]"
          },
          "metadata": {}
        },
        {
          "output_type": "display_data",
          "data": {
            "text/plain": [
              "<Figure size 500x400 with 0 Axes>"
            ]
          },
          "metadata": {}
        },
        {
          "output_type": "stream",
          "name": "stdout",
          "text": [
            "Logistic Regression\n",
            "Accuracy: 0.9500\n",
            "Precision: 0.9561\n",
            "Recall: 0.9500\n",
            "F1 Score: 0.9530\n",
            "\n",
            "--------------------------------------------------\n",
            "\n"
          ]
        },
        {
          "output_type": "display_data",
          "data": {
            "text/plain": [
              "<Figure size 640x480 with 2 Axes>"
            ],
            "image/png": "[encoded data removed]"
          },
          "metadata": {}
        },
        {
          "output_type": "display_data",
          "data": {
            "text/plain": [
              "<Figure size 500x400 with 0 Axes>"
            ]
          },
          "metadata": {}
        },
        {
          "output_type": "stream",
          "name": "stdout",
          "text": [
            "Random Forest\n",
            "Accuracy: 0.8425\n",
            "Precision: 0.9471\n",
            "Recall: 0.8425\n",
            "F1 Score: 0.8917\n",
            "\n",
            "--------------------------------------------------\n",
            "\n"
          ]
        },
        {
          "output_type": "display_data",
          "data": {
            "text/plain": [
              "<Figure size 640x480 with 2 Axes>"
            ],
            "image/png": "[encoded data removed]"
          },
          "metadata": {}
        },
        {
          "output_type": "display_data",
          "data": {
            "text/plain": [
              "<Figure size 500x400 with 0 Axes>"
            ]
          },
          "metadata": {}
        },
        {
          "output_type": "stream",
          "name": "stdout",
          "text": [
            "Gradient Boosting\n",
            "Accuracy: 0.7673\n",
            "Precision: 0.9509\n",
            "Recall: 0.7673\n",
            "F1 Score: 0.8469\n",
            "\n",
            "--------------------------------------------------\n",
            "\n"
          ]
        },
        {
          "output_type": "display_data",
          "data": {
            "text/plain": [
              "<Figure size 640x480 with 2 Axes>"
            ],
            "image/png": "[encoded data removed]"
          },
          "metadata": {}
        },
        {
          "output_type": "display_data",
          "data": {
            "text/plain": [
              "<Figure size 500x400 with 0 Axes>"
            ]
          },
          "metadata": {}
        },
        {
          "output_type": "stream",
          "name": "stdout",
          "text": [
            "SVM\n",
            "Accuracy: 0.9750\n",
            "Precision: 0.9507\n",
            "Recall: 1.0000\n",
            "F1 Score: 0.9627\n",
            "\n",
            "--------------------------------------------------\n",
            "\n"
          ]
        },
        {
          "output_type": "display_data",
          "data": {
            "text/plain": [
              "<Figure size 640x480 with 2 Axes>"
            ],
            "image/png": "[encoded data removed]"
          },
          "metadata": {}
        },
        {
          "output_type": "display_data",
          "data": {
            "text/plain": [
              "<Figure size 500x400 with 0 Axes>"
            ]
          },
          "metadata": {}
        },
        {
          "output_type": "stream",
          "name": "stdout",
          "text": [
            "KNN\n",
            "Accuracy: 0.9748\n",
            "Precision: 0.9507\n",
            "Recall: 0.9748\n",
            "F1 Score: 0.9626\n"
          ]
        }
      ]
    },
    {
      "cell_type": "markdown",
      "source": [
        "Para finalizar, vamos avaliar o resultado de cada um dos algoritmos:\n",
        "* LogisticRegression - Errou muitos dos que deveriam ser 1;\n",
        "* RandomForestClassifier - Errou muitos dos que deveriam ser 1;\n",
        "* GradientBoostingClassifier - Errou muitos dos que deveriam ser 1;\n",
        "* SVC - Teve 100% overfitting;\n",
        "* KNeighborsClassifier - Teve overfitting em praticamente toda a base;\n",
        "\n",
        "Nenhum desses teve uma boa entrega ao olhar a matriz de precissão, a acuracia o recall e a precisão de alguns até ficou relativamente boa, mas precisaria de mais algumas adaptações para ficar melhor. Porém, se fosse selecionar uma das opções acredito que"
      ],
      "metadata": {
        "id": "MVm2sHldaPf7"
      }
    }
  ],
  "metadata": {
    "colab": {
      "provenance": [],
      "collapsed_sections": [
        "IEIJ0wwIgg9i",
        "2tNlf3dPh8MK",
        "B7F0L3ubGjjh"
      ],
      "toc_visible": true,
      "include_colab_link": true
    },
    "kernelspec": {
      "display_name": "Python 3",
      "name": "python3"
    },
    "language_info": {
      "name": "python"
    }
  },
  "nbformat": 4,
  "nbformat_minor": 0
}